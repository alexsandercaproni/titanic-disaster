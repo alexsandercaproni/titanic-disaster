{
 "cells": [
  {
   "cell_type": "markdown",
   "metadata": {},
   "source": [
    "# Titanic: Machine Learning from Disaster\n",
    "\n",
    "The sinking of the RMS Titanic is one of the most infamous shipwrecks in history.  On April 15, 1912, during her maiden voyage, the Titanic sank after colliding with an iceberg, killing 1502 out of 2224 passengers and crew. This sensational tragedy shocked the international community and led to better safety regulations for ships.\n",
    "\n",
    "One of the reasons that the shipwreck led to such loss of life was that there were not enough lifeboats for the passengers and crew. Although there was some element of luck involved in surviving the sinking, some groups of people were more likely to survive than others, such as women, children, and the upper-class.\n",
    "\n",
    "In this challenge, we will complete the analysis of what sorts of people were likely to survive, using dataset available on Kaggle:\n",
    "https://www.kaggle.com/c/titanic/data"
   ]
  },
  {
   "cell_type": "markdown",
   "metadata": {},
   "source": [
    "## Titanic Dataset\n",
    "\n",
    "The data has been split into two groups:\n",
    "\n",
    "- training set (train.csv)\n",
    "- test set (test.csv)\n",
    "\n",
    "### Data Dictionary\n",
    "\n",
    "``survival:`` Survival (0 = No, 1 = Yes)  \n",
    "``pclas:``\tTicket class (1 = 1st, 2 = 2nd, 3 = 3rd)  \n",
    "``sex:`` Sex\t\n",
    "``age:``\tAge in years\t\n",
    "``sibsp: ``\t# of siblings / spouses aboard the Titanic\t\n",
    "``parch: ``\t# of parents / children aboard the Titanic\t\n",
    "``ticket: `` Ticket number\t\n",
    "``fare: `` Passenger fare\t\n",
    "``cabin: `` Cabin number\t\n",
    "``embarked: `` Port of Embarkation (C = Cherbourg, Q = Queenstown, S = Southampton)"
   ]
  },
  {
   "cell_type": "code",
   "execution_count": 85,
   "metadata": {},
   "outputs": [],
   "source": [
    "# Importing libraries \n",
    "\n",
    "import pandas as pd\n",
    "import matplotlib.pyplot as plt\n",
    "import seaborn as sns"
   ]
  },
  {
   "cell_type": "code",
   "execution_count": 86,
   "metadata": {},
   "outputs": [
    {
     "name": "stdout",
     "output_type": "stream",
     "text": [
      "Train shape:  (891, 12) | Test shape (418, 11)\n"
     ]
    },
    {
     "data": {
      "text/html": [
       "<div>\n",
       "<style scoped>\n",
       "    .dataframe tbody tr th:only-of-type {\n",
       "        vertical-align: middle;\n",
       "    }\n",
       "\n",
       "    .dataframe tbody tr th {\n",
       "        vertical-align: top;\n",
       "    }\n",
       "\n",
       "    .dataframe thead th {\n",
       "        text-align: right;\n",
       "    }\n",
       "</style>\n",
       "<table border=\"1\" class=\"dataframe\">\n",
       "  <thead>\n",
       "    <tr style=\"text-align: right;\">\n",
       "      <th></th>\n",
       "      <th>PassengerId</th>\n",
       "      <th>Survived</th>\n",
       "      <th>Pclass</th>\n",
       "      <th>Name</th>\n",
       "      <th>Sex</th>\n",
       "      <th>Age</th>\n",
       "      <th>SibSp</th>\n",
       "      <th>Parch</th>\n",
       "      <th>Ticket</th>\n",
       "      <th>Fare</th>\n",
       "      <th>Cabin</th>\n",
       "      <th>Embarked</th>\n",
       "    </tr>\n",
       "  </thead>\n",
       "  <tbody>\n",
       "    <tr>\n",
       "      <th>0</th>\n",
       "      <td>1</td>\n",
       "      <td>0</td>\n",
       "      <td>3</td>\n",
       "      <td>Braund, Mr. Owen Harris</td>\n",
       "      <td>male</td>\n",
       "      <td>22.0</td>\n",
       "      <td>1</td>\n",
       "      <td>0</td>\n",
       "      <td>A/5 21171</td>\n",
       "      <td>7.2500</td>\n",
       "      <td>NaN</td>\n",
       "      <td>S</td>\n",
       "    </tr>\n",
       "    <tr>\n",
       "      <th>1</th>\n",
       "      <td>2</td>\n",
       "      <td>1</td>\n",
       "      <td>1</td>\n",
       "      <td>Cumings, Mrs. John Bradley (Florence Briggs Th...</td>\n",
       "      <td>female</td>\n",
       "      <td>38.0</td>\n",
       "      <td>1</td>\n",
       "      <td>0</td>\n",
       "      <td>PC 17599</td>\n",
       "      <td>71.2833</td>\n",
       "      <td>C85</td>\n",
       "      <td>C</td>\n",
       "    </tr>\n",
       "    <tr>\n",
       "      <th>2</th>\n",
       "      <td>3</td>\n",
       "      <td>1</td>\n",
       "      <td>3</td>\n",
       "      <td>Heikkinen, Miss. Laina</td>\n",
       "      <td>female</td>\n",
       "      <td>26.0</td>\n",
       "      <td>0</td>\n",
       "      <td>0</td>\n",
       "      <td>STON/O2. 3101282</td>\n",
       "      <td>7.9250</td>\n",
       "      <td>NaN</td>\n",
       "      <td>S</td>\n",
       "    </tr>\n",
       "    <tr>\n",
       "      <th>3</th>\n",
       "      <td>4</td>\n",
       "      <td>1</td>\n",
       "      <td>1</td>\n",
       "      <td>Futrelle, Mrs. Jacques Heath (Lily May Peel)</td>\n",
       "      <td>female</td>\n",
       "      <td>35.0</td>\n",
       "      <td>1</td>\n",
       "      <td>0</td>\n",
       "      <td>113803</td>\n",
       "      <td>53.1000</td>\n",
       "      <td>C123</td>\n",
       "      <td>S</td>\n",
       "    </tr>\n",
       "    <tr>\n",
       "      <th>4</th>\n",
       "      <td>5</td>\n",
       "      <td>0</td>\n",
       "      <td>3</td>\n",
       "      <td>Allen, Mr. William Henry</td>\n",
       "      <td>male</td>\n",
       "      <td>35.0</td>\n",
       "      <td>0</td>\n",
       "      <td>0</td>\n",
       "      <td>373450</td>\n",
       "      <td>8.0500</td>\n",
       "      <td>NaN</td>\n",
       "      <td>S</td>\n",
       "    </tr>\n",
       "  </tbody>\n",
       "</table>\n",
       "</div>"
      ],
      "text/plain": [
       "   PassengerId  Survived  Pclass  \\\n",
       "0            1         0       3   \n",
       "1            2         1       1   \n",
       "2            3         1       3   \n",
       "3            4         1       1   \n",
       "4            5         0       3   \n",
       "\n",
       "                                                Name     Sex   Age  SibSp  \\\n",
       "0                            Braund, Mr. Owen Harris    male  22.0      1   \n",
       "1  Cumings, Mrs. John Bradley (Florence Briggs Th...  female  38.0      1   \n",
       "2                             Heikkinen, Miss. Laina  female  26.0      0   \n",
       "3       Futrelle, Mrs. Jacques Heath (Lily May Peel)  female  35.0      1   \n",
       "4                           Allen, Mr. William Henry    male  35.0      0   \n",
       "\n",
       "   Parch            Ticket     Fare Cabin Embarked  \n",
       "0      0         A/5 21171   7.2500   NaN        S  \n",
       "1      0          PC 17599  71.2833   C85        C  \n",
       "2      0  STON/O2. 3101282   7.9250   NaN        S  \n",
       "3      0            113803  53.1000  C123        S  \n",
       "4      0            373450   8.0500   NaN        S  "
      ]
     },
     "execution_count": 86,
     "metadata": {},
     "output_type": "execute_result"
    }
   ],
   "source": [
    "# Reading train and test datasets\n",
    "\n",
    "train = pd.read_csv('data/train.csv')\n",
    "test = pd.read_csv('data/test.csv')\n",
    "\n",
    "print('Train shape: ', train.shape, '| Test shape', test.shape)\n",
    "train.head()"
   ]
  },
  {
   "cell_type": "markdown",
   "metadata": {},
   "source": [
    "## Data Clean \n",
    "In this section, we should be able to determinate some columns that aren't important for us in this context and remove some trashes into the dataset.\n",
    "\n",
    "We adopt a premise that the ``PassengerId``, ``Ticket``, ``Cabin`` and ``Fare``  columns are not relevant to our context. So, in Data Clean section we’ll take a 3 step approach to data clean:\n",
    "\n",
    "- Identify and remove any duplicate entries\n",
    "- Remove unnecessary columns\n",
    "- Fix missing and data format issues"
   ]
  },
  {
   "cell_type": "markdown",
   "metadata": {},
   "source": [
    "### Remove Duplicates"
   ]
  },
  {
   "cell_type": "code",
   "execution_count": 87,
   "metadata": {},
   "outputs": [
    {
     "name": "stdout",
     "output_type": "stream",
     "text": [
      "Number of duplicate entries in Train Dataset is/are 0\n"
     ]
    }
   ],
   "source": [
    "train_duplicates = train.duplicated()\n",
    "print('Number of duplicate entries in Train Dataset is/are {}'.format(train_duplicates.sum()))"
   ]
  },
  {
   "cell_type": "markdown",
   "metadata": {},
   "source": [
    "### Remove Unnecessary Columns\n",
    "\n",
    "``PassengerId``, ``Ticket``, ``Cabin`` and ``Fare``  columns"
   ]
  },
  {
   "cell_type": "code",
   "execution_count": 88,
   "metadata": {},
   "outputs": [
    {
     "data": {
      "text/html": [
       "<div>\n",
       "<style scoped>\n",
       "    .dataframe tbody tr th:only-of-type {\n",
       "        vertical-align: middle;\n",
       "    }\n",
       "\n",
       "    .dataframe tbody tr th {\n",
       "        vertical-align: top;\n",
       "    }\n",
       "\n",
       "    .dataframe thead th {\n",
       "        text-align: right;\n",
       "    }\n",
       "</style>\n",
       "<table border=\"1\" class=\"dataframe\">\n",
       "  <thead>\n",
       "    <tr style=\"text-align: right;\">\n",
       "      <th></th>\n",
       "      <th>Survived</th>\n",
       "      <th>Pclass</th>\n",
       "      <th>Name</th>\n",
       "      <th>Sex</th>\n",
       "      <th>Age</th>\n",
       "      <th>SibSp</th>\n",
       "      <th>Parch</th>\n",
       "      <th>Embarked</th>\n",
       "    </tr>\n",
       "  </thead>\n",
       "  <tbody>\n",
       "    <tr>\n",
       "      <th>0</th>\n",
       "      <td>0</td>\n",
       "      <td>3</td>\n",
       "      <td>Braund, Mr. Owen Harris</td>\n",
       "      <td>male</td>\n",
       "      <td>22.0</td>\n",
       "      <td>1</td>\n",
       "      <td>0</td>\n",
       "      <td>S</td>\n",
       "    </tr>\n",
       "    <tr>\n",
       "      <th>1</th>\n",
       "      <td>1</td>\n",
       "      <td>1</td>\n",
       "      <td>Cumings, Mrs. John Bradley (Florence Briggs Th...</td>\n",
       "      <td>female</td>\n",
       "      <td>38.0</td>\n",
       "      <td>1</td>\n",
       "      <td>0</td>\n",
       "      <td>C</td>\n",
       "    </tr>\n",
       "    <tr>\n",
       "      <th>2</th>\n",
       "      <td>1</td>\n",
       "      <td>3</td>\n",
       "      <td>Heikkinen, Miss. Laina</td>\n",
       "      <td>female</td>\n",
       "      <td>26.0</td>\n",
       "      <td>0</td>\n",
       "      <td>0</td>\n",
       "      <td>S</td>\n",
       "    </tr>\n",
       "    <tr>\n",
       "      <th>3</th>\n",
       "      <td>1</td>\n",
       "      <td>1</td>\n",
       "      <td>Futrelle, Mrs. Jacques Heath (Lily May Peel)</td>\n",
       "      <td>female</td>\n",
       "      <td>35.0</td>\n",
       "      <td>1</td>\n",
       "      <td>0</td>\n",
       "      <td>S</td>\n",
       "    </tr>\n",
       "    <tr>\n",
       "      <th>4</th>\n",
       "      <td>0</td>\n",
       "      <td>3</td>\n",
       "      <td>Allen, Mr. William Henry</td>\n",
       "      <td>male</td>\n",
       "      <td>35.0</td>\n",
       "      <td>0</td>\n",
       "      <td>0</td>\n",
       "      <td>S</td>\n",
       "    </tr>\n",
       "  </tbody>\n",
       "</table>\n",
       "</div>"
      ],
      "text/plain": [
       "   Survived  Pclass                                               Name  \\\n",
       "0         0       3                            Braund, Mr. Owen Harris   \n",
       "1         1       1  Cumings, Mrs. John Bradley (Florence Briggs Th...   \n",
       "2         1       3                             Heikkinen, Miss. Laina   \n",
       "3         1       1       Futrelle, Mrs. Jacques Heath (Lily May Peel)   \n",
       "4         0       3                           Allen, Mr. William Henry   \n",
       "\n",
       "      Sex   Age  SibSp  Parch Embarked  \n",
       "0    male  22.0      1      0        S  \n",
       "1  female  38.0      1      0        C  \n",
       "2  female  26.0      0      0        S  \n",
       "3  female  35.0      1      0        S  \n",
       "4    male  35.0      0      0        S  "
      ]
     },
     "execution_count": 88,
     "metadata": {},
     "output_type": "execute_result"
    }
   ],
   "source": [
    "train_cleaned = train.drop(['PassengerId','Ticket','Cabin','Fare'], axis=1)\n",
    "test_cleaned = test.drop(['PassengerId','Ticket','Cabin','Fare'], axis=1)\n",
    "train_cleaned.head()"
   ]
  },
  {
   "cell_type": "markdown",
   "metadata": {},
   "source": [
    "### Fix missing data and wrong formats\n",
    "\n",
    "In this section, we should be able to analyze the attributes, looking for if are null data, wrong formats or something else.\n",
    "\n",
    "Unfortunatelly, there are missing values in Age attribute."
   ]
  },
  {
   "cell_type": "code",
   "execution_count": 89,
   "metadata": {},
   "outputs": [
    {
     "name": "stdout",
     "output_type": "stream",
     "text": [
      "<class 'pandas.core.frame.DataFrame'>\n",
      "RangeIndex: 891 entries, 0 to 890\n",
      "Data columns (total 8 columns):\n",
      "Survived    891 non-null int64\n",
      "Pclass      891 non-null int64\n",
      "Name        891 non-null object\n",
      "Sex         891 non-null object\n",
      "Age         714 non-null float64\n",
      "SibSp       891 non-null int64\n",
      "Parch       891 non-null int64\n",
      "Embarked    889 non-null object\n",
      "dtypes: float64(1), int64(4), object(3)\n",
      "memory usage: 55.8+ KB\n"
     ]
    }
   ],
   "source": [
    "train_cleaned.info()"
   ]
  },
  {
   "cell_type": "code",
   "execution_count": 90,
   "metadata": {},
   "outputs": [
    {
     "name": "stdout",
     "output_type": "stream",
     "text": [
      "Survived without age: 52 , Died without age: 125\n"
     ]
    }
   ],
   "source": [
    "survived_without_age = train_cleaned[(train_cleaned[\"Survived\"] == 1) & (train_cleaned['Age'].isnull())].shape[0]\n",
    "died_without_age = train_cleaned[(train_cleaned[\"Survived\"] == 0) & (train_cleaned['Age'].isnull())].shape[0]\n",
    "\n",
    "print('Survived without age:', survived_without_age, ', Died without age:', died_without_age)"
   ]
  },
  {
   "cell_type": "markdown",
   "metadata": {},
   "source": [
    "These missing ``Age`` data is a big problem, such as it represents about 20% our train dataset."
   ]
  },
  {
   "cell_type": "code",
   "execution_count": 91,
   "metadata": {},
   "outputs": [],
   "source": [
    "# Getting mean about Class 1: survived and died women and men\n",
    "class_one_female = train_cleaned[(train_cleaned['Pclass'] == 1) & (train_cleaned['Sex'] == 'female')]\n",
    "fs_mean_1 = class_one_female[class_one_female['Survived'] == 1]['Age'].mean()\n",
    "fd_mean_1 = class_one_female[class_one_female['Survived'] == 0]['Age'].mean()\n",
    "\n",
    "class_one_male = train_cleaned[(train_cleaned['Pclass'] == 1) & (train_cleaned['Sex'] == 'male')]\n",
    "ms_mean_1 = class_one_male[class_one_male['Survived'] == 1]['Age'].mean()\n",
    "md_mean_1 = class_one_male[class_one_male['Survived'] == 0]['Age'].mean()\n",
    "\n",
    "# Getting mean about Class 2: survived and died women and men\n",
    "class_two_female = train_cleaned[(train_cleaned['Pclass'] == 2) & (train_cleaned['Sex'] == 'female')]\n",
    "fs_mean_2 = class_two_female[class_two_female['Survived'] == 1]['Age'].mean()\n",
    "fd_mean_2 = class_two_female[class_two_female['Survived'] == 0]['Age'].mean()\n",
    "\n",
    "class_two_male = train_cleaned[(train_cleaned['Pclass'] == 2) & (train_cleaned['Sex'] == 'male')]\n",
    "ms_mean_2 = class_two_male[class_two_male['Survived'] == 1]['Age'].mean()\n",
    "md_mean_2 = class_two_male[class_two_male['Survived'] == 0]['Age'].mean()\n",
    "\n",
    "# Getting mean about Class 3: survived and died women and men\n",
    "class_three_female = train_cleaned[(train_cleaned['Pclass'] == 3) & (train_cleaned['Sex'] == 'female')]\n",
    "fs_mean_3 = class_three_female[class_three_female['Survived'] == 1]['Age'].mean()\n",
    "fd_mean_3 = class_three_female[class_three_female['Survived'] == 0]['Age'].mean()\n",
    "\n",
    "class_three_male = train_cleaned[(train_cleaned['Pclass'] == 3) & (train_cleaned['Sex'] == 'male')]\n",
    "ms_mean_3 = class_three_male[class_three_male['Survived'] == 1]['Age'].mean()\n",
    "md_mean_3 = class_three_male[class_three_male['Survived'] == 0]['Age'].mean()"
   ]
  },
  {
   "cell_type": "code",
   "execution_count": 92,
   "metadata": {},
   "outputs": [],
   "source": [
    "# Updating Ages in Class 1\n",
    "train_cleaned.loc[(train_cleaned['Survived'] == 1) & (train_cleaned['Pclass'] == 1) \n",
    "                  & (train_cleaned['Sex'] == 'female') & (train_cleaned['Age'].isnull()), 'Age'] = fs_mean_1\n",
    "\n",
    "train_cleaned.loc[(train_cleaned['Survived'] == 0) & (train_cleaned['Pclass'] == 1) \n",
    "                  & (train_cleaned['Sex'] == 'female') & (train_cleaned['Age'].isnull()), 'Age'] = fd_mean_1\n",
    "\n",
    "train_cleaned.loc[(train_cleaned['Survived'] == 1) & (train_cleaned['Pclass'] == 1) \n",
    "                  & (train_cleaned['Sex'] == 'male') & (train_cleaned['Age'].isnull()), 'Age'] = ms_mean_1\n",
    "\n",
    "train_cleaned.loc[(train_cleaned['Survived'] == 0) & (train_cleaned['Pclass'] == 1) \n",
    "                  & (train_cleaned['Sex'] == 'male') & (train_cleaned['Age'].isnull()), 'Age'] = md_mean_1\n",
    "\n",
    "# Updating Ages in Class 2\n",
    "train_cleaned.loc[(train_cleaned['Survived'] == 1) & (train_cleaned['Pclass'] == 2) \n",
    "                  & (train_cleaned['Sex'] == 'female') & (train_cleaned['Age'].isnull()), 'Age'] = fs_mean_2\n",
    "\n",
    "train_cleaned.loc[(train_cleaned['Survived'] == 0) & (train_cleaned['Pclass'] == 2) \n",
    "                  & (train_cleaned['Sex'] == 'female') & (train_cleaned['Age'].isnull()), 'Age'] = fd_mean_2\n",
    "\n",
    "train_cleaned.loc[(train_cleaned['Survived'] == 1) & (train_cleaned['Pclass'] == 2) \n",
    "                  & (train_cleaned['Sex'] == 'male') & (train_cleaned['Age'].isnull()), 'Age'] = ms_mean_2\n",
    "\n",
    "train_cleaned.loc[(train_cleaned['Survived'] == 0) & (train_cleaned['Pclass'] == 2) \n",
    "                  & (train_cleaned['Sex'] == 'male') & (train_cleaned['Age'].isnull()), 'Age'] = md_mean_2\n",
    "\n",
    "\n",
    "# Updating Ages in Class 3\n",
    "train_cleaned.loc[(train_cleaned['Survived'] == 1) & (train_cleaned['Pclass'] == 3) \n",
    "                  & (train_cleaned['Sex'] == 'female') & (train_cleaned['Age'].isnull()), 'Age'] = fs_mean_3\n",
    "\n",
    "train_cleaned.loc[(train_cleaned['Survived'] == 0) & (train_cleaned['Pclass'] == 3) \n",
    "                  & (train_cleaned['Sex'] == 'female') & (train_cleaned['Age'].isnull()), 'Age'] = fd_mean_3\n",
    "\n",
    "train_cleaned.loc[(train_cleaned['Survived'] == 1) & (train_cleaned['Pclass'] == 3) \n",
    "                  & (train_cleaned['Sex'] == 'male') & (train_cleaned['Age'].isnull()), 'Age'] = ms_mean_3\n",
    "\n",
    "train_cleaned.loc[(train_cleaned['Survived'] == 0) & (train_cleaned['Pclass'] == 3) \n",
    "                  & (train_cleaned['Sex'] == 'male') & (train_cleaned['Age'].isnull()), 'Age'] = md_mean_3"
   ]
  },
  {
   "cell_type": "markdown",
   "metadata": {},
   "source": [
    "Checking if there is no missing Ages"
   ]
  },
  {
   "cell_type": "code",
   "execution_count": 93,
   "metadata": {},
   "outputs": [
    {
     "name": "stdout",
     "output_type": "stream",
     "text": [
      "<class 'pandas.core.frame.DataFrame'>\n",
      "RangeIndex: 891 entries, 0 to 890\n",
      "Data columns (total 8 columns):\n",
      "Survived    891 non-null int64\n",
      "Pclass      891 non-null int64\n",
      "Name        891 non-null object\n",
      "Sex         891 non-null object\n",
      "Age         891 non-null float64\n",
      "SibSp       891 non-null int64\n",
      "Parch       891 non-null int64\n",
      "Embarked    889 non-null object\n",
      "dtypes: float64(1), int64(4), object(3)\n",
      "memory usage: 55.8+ KB\n"
     ]
    }
   ],
   "source": [
    "train_cleaned.info()"
   ]
  },
  {
   "cell_type": "markdown",
   "metadata": {},
   "source": [
    "## Exploring and Visualization Dataset \n",
    "As we all know, during the tragedy there was a prioritization of lifeboats for children and women. Let's see if this behavior reflects on the dataset, mainly between men and women."
   ]
  },
  {
   "cell_type": "code",
   "execution_count": 94,
   "metadata": {
    "scrolled": true
   },
   "outputs": [
    {
     "data": {
      "image/png": "[encoded data removed]",
      "text/plain": [
       "<Figure size 432x288 with 1 Axes>"
      ]
     },
     "metadata": {
      "needs_background": "light"
     },
     "output_type": "display_data"
    }
   ],
   "source": [
    "sex_graph = train.pivot_table(index=\"Sex\", values=\"Survived\") \n",
    "sex_graph.plot.bar()\n",
    "plt.show()"
   ]
  },
  {
   "cell_type": "markdown",
   "metadata": {},
   "source": [
    "In fact, as we can see, there were more women survived than men!\n",
    "\n",
    "Another point deserves our attention is how we can fix the problem with missing age of the people on board."
   ]
  },
  {
   "cell_type": "code",
   "execution_count": 96,
   "metadata": {},
   "outputs": [
    {
     "data": {
      "text/plain": [
       "count    891.000000\n",
       "mean      29.339313\n",
       "std       13.370271\n",
       "min        0.420000\n",
       "25%       21.000000\n",
       "50%       27.255814\n",
       "75%       36.000000\n",
       "max       80.000000\n",
       "Name: Age, dtype: float64"
      ]
     },
     "execution_count": 96,
     "metadata": {},
     "output_type": "execute_result"
    }
   ],
   "source": [
    "train_cleaned.Age.describe()"
   ]
  },
  {
   "cell_type": "markdown",
   "metadata": {},
   "source": [
    "As we can see, we had 29 years old as mean, a newborn with 4 months and a old person representig min and max ages respectively. I believe Age is an important attribute and it can't be null. So, let's see if there are null values.."
   ]
  },
  {
   "cell_type": "code",
   "execution_count": 97,
   "metadata": {},
   "outputs": [
    {
     "data": {
      "text/plain": [
       "<matplotlib.axes._subplots.AxesSubplot at 0x1a1cb103c8>"
      ]
     },
     "execution_count": 97,
     "metadata": {},
     "output_type": "execute_result"
    },
    {
     "data": {
      "image/png": "[encoded data removed]",
      "text/plain": [
       "<Figure size 432x288 with 1 Axes>"
      ]
     },
     "metadata": {
      "needs_background": "light"
     },
     "output_type": "display_data"
    }
   ],
   "source": [
    "survived = train_cleaned[train_cleaned[\"Survived\"] == 1]\n",
    "died = train_cleaned[train_cleaned[\"Survived\"] == 0]\n",
    "\n",
    "survived[\"Age\"].plot.hist(bins=30, color='green', alpha=0.5)\n",
    "died[\"Age\"].plot.hist(bins=30, color='red', alpha=0.5)"
   ]
  },
  {
   "cell_type": "markdown",
   "metadata": {},
   "source": [
    "Some questions could be made about tragedy:\n",
    "\n",
    "- Were social-economic standing a factor in survival rate?\n",
    "- Did age, regardless of sex and class, determine your chances of survival?"
   ]
  },
  {
   "cell_type": "code",
   "execution_count": 99,
   "metadata": {},
   "outputs": [
    {
     "name": "stdout",
     "output_type": "stream",
     "text": [
      "Class 1:\n",
      "Women Survived:  91 Women Died:  3\n",
      "Men Survived:  45 Men Died:  77\n",
      "Class 2: \n",
      "Women Survived:  70 Women Died:  6\n",
      "Men Survived:  17 Men Died:  91\n",
      "Class 3: \n",
      "Women Survived:  72 Women Died:  72\n",
      "Men Survived:  47 Men Died:  300\n"
     ]
    }
   ],
   "source": [
    "# Class 1\n",
    "print('Class 1:')\n",
    "f_surv_one = class_one_female[class_one_female['Survived'] == 1].shape[0]\n",
    "f_died_one = class_one_female[class_one_female['Survived'] == 0].shape[0]\n",
    "\n",
    "print('Women Survived: ', f_surv_one, 'Women Died: ',f_died_one)\n",
    "\n",
    "m_surv_one = class_one_male[class_one_male['Survived'] == 1].shape[0]\n",
    "m_died_one = class_one_male[class_one_male['Survived'] == 0].shape[0]\n",
    "\n",
    "print('Men Survived: ', m_surv_one, 'Men Died: ', m_died_one)\n",
    "\n",
    "# Class 2\n",
    "print('Class 2: ')\n",
    "f_surv_two = class_two_female[class_two_female['Survived'] == 1].shape[0]\n",
    "f_died_two = class_two_female[class_two_female['Survived'] == 0].shape[0]\n",
    "\n",
    "print('Women Survived: ', f_surv_two, 'Women Died: ', f_died_two)\n",
    "\n",
    "m_surv_two = class_two_male[class_two_male['Survived'] == 1].shape[0]\n",
    "m_died_two = class_two_male[class_two_male['Survived'] == 0].shape[0]\n",
    "\n",
    "print('Men Survived: ', m_surv_two, 'Men Died: ', m_died_two)\n",
    "\n",
    "# Class 3\n",
    "print('Class 3: ')\n",
    "f_surv_three = class_three_female[class_three_female['Survived'] == 1].shape[0]\n",
    "f_died_three = class_three_female[class_three_female['Survived'] == 0].shape[0]\n",
    "\n",
    "print('Women Survived: ', f_surv_three, 'Women Died: ', f_died_three)\n",
    "\n",
    "m_surv_three = class_three_male[class_three_male['Survived'] == 1].shape[0]\n",
    "m_died_three = class_three_male[class_three_male['Survived'] == 0].shape[0]\n",
    "\n",
    "print('Men Survived: ', m_surv_three, 'Men Died: ', m_died_three)"
   ]
  },
  {
   "cell_type": "code",
   "execution_count": 100,
   "metadata": {},
   "outputs": [
    {
     "data": {
      "image/png": "[encoded data removed]",
      "text/plain": [
       "<Figure size 756x360 with 3 Axes>"
      ]
     },
     "metadata": {
      "needs_background": "light"
     },
     "output_type": "display_data"
    },
    {
     "data": {
      "image/png": "[encoded data removed]",
      "text/plain": [
       "<Figure size 848.775x504 with 2 Axes>"
      ]
     },
     "metadata": {
      "needs_background": "light"
     },
     "output_type": "display_data"
    }
   ],
   "source": [
    "g = sns.catplot(x=\"Sex\", y=\"Survived\", col=\"Pclass\", data=train_cleaned,\n",
    "                saturation=0.4, kind=\"bar\", ci=None, height=5, aspect=.7)\n",
    "\n",
    "# Fix up the labels\n",
    "(g.set_axis_labels('', 'Survival Rate')\n",
    "  .set_xticklabels([\"Men\", \"Women\"])\n",
    "  .set_titles(\"Class {col_name}\")\n",
    "  .set(ylim=(0, 1))\n",
    "  .despine(left=True, bottom=True))\n",
    "\n",
    "# Graph - Actual count of passengers by survival, group and sex\n",
    "g = sns.catplot('Survived', col='Sex', hue='Pclass', data=train_cleaned, kind='count', height=7, aspect=.8)\n",
    "\n",
    "# Fix up the labels\n",
    "g.set_axis_labels('Suvivors', 'Passengers')\n",
    "\n",
    "titles = ['Men', 'Women']\n",
    "for ax, title in zip(g.axes.flat, titles):\n",
    "    ax.set_title(title)"
   ]
  },
  {
   "cell_type": "markdown",
   "metadata": {},
   "source": [
    "Based at the graphs, passengers in Class 3 had a similar survival rate as those from Class 1. However, looking at the percentages of the overall passengers per class and the total numbers across each class, it can be assumed that a passenger from Class 1 is more likely to survive than a passenger in Class 3."
   ]
  },
  {
   "cell_type": "markdown",
   "metadata": {},
   "source": [
    "## Modeling\n",
    "In this section, we should be able to determinate the best model to predict survived people in this disaster."
   ]
  }
 ],
 "metadata": {
  "kernelspec": {
   "display_name": "Python 3",
   "language": "python",
   "name": "python3"
  },
  "language_info": {
   "codemirror_mode": {
    "name": "ipython",
    "version": 3
   },
   "file_extension": ".py",
   "mimetype": "text/x-python",
   "name": "python",
   "nbconvert_exporter": "python",
   "pygments_lexer": "ipython3",
   "version": "3.7.1"
  }
 },
 "nbformat": 4,
 "nbformat_minor": 2
}
